{
  "nbformat": 4,
  "nbformat_minor": 0,
  "metadata": {
    "colab": {
      "name": "mnist.ipynb",
      "provenance": [],
      "authorship_tag": "ABX9TyOuTyMSgZwY+FKuC7EHLre7",
      "include_colab_link": true
    },
    "kernelspec": {
      "name": "python3",
      "display_name": "Python 3"
    },
    "accelerator": "GPU"
  },
  "cells": [
    {
      "cell_type": "markdown",
      "metadata": {
        "id": "view-in-github",
        "colab_type": "text"
      },
      "source": [
        "<a href=\"https://colab.research.google.com/github/arijeetchoudhury100/handwritten_digits/blob/master/mnist.ipynb\" target=\"_parent\"><img src=\"https://colab.research.google.com/assets/colab-badge.svg\" alt=\"Open In Colab\"/></a>"
      ]
    },
    {
      "cell_type": "code",
      "metadata": {
        "id": "9mwPP3WEc-oP",
        "colab_type": "code",
        "colab": {}
      },
      "source": [
        "import tensorflow as tf\n",
        "import numpy as np\n",
        "import cv2\n",
        "import math\n",
        "import matplotlib.pyplot as plt\n",
        "from tensorflow.keras.utils import to_categorical\n",
        "from tensorflow.keras.models import Model, Sequential\n",
        "from tensorflow.keras.layers import Input,Conv2D,Dense,GlobalAveragePooling2D,MaxPooling2D,Flatten,BatchNormalization,Dropout,Activation\n",
        "from tensorflow.keras.optimizers import Adam\n",
        "from tensorflow.keras.callbacks import ModelCheckpoint,ReduceLROnPlateau,LearningRateScheduler"
      ],
      "execution_count": 78,
      "outputs": []
    },
    {
      "cell_type": "code",
      "metadata": {
        "id": "1O0xcx8idf9D",
        "colab_type": "code",
        "colab": {}
      },
      "source": [
        "#load the mnist data\n",
        "(train_x,train_y),(test_x,test_y) = tf.keras.datasets.mnist.load_data()"
      ],
      "execution_count": 79,
      "outputs": []
    },
    {
      "cell_type": "code",
      "metadata": {
        "id": "s0wF-OmmdyYx",
        "colab_type": "code",
        "colab": {
          "base_uri": "https://localhost:8080/",
          "height": 139
        },
        "outputId": "7b426dbc-c1c2-4700-ef92-a48ae59531e2"
      },
      "source": [
        "#data statistics\n",
        "NUM_CLASSES = 10\n",
        "NUM_CHANNELS = 1\n",
        "_,IMG_H,IMG_W = train_x.shape\n",
        "print('No. of training samples:',len(train_x))\n",
        "print('No. of testing samples:',len(test_x))\n",
        "print('Image shape:',(IMG_H,IMG_W))\n",
        "print('train_x shape:',train_x.shape)\n",
        "print('test_x shape:',test_x.shape)\n",
        "print('train_y shape:',train_y.shape)\n",
        "print('test_y shape:',test_y.shape)"
      ],
      "execution_count": 80,
      "outputs": [
        {
          "output_type": "stream",
          "text": [
            "No. of training samples: 60000\n",
            "No. of testing samples: 10000\n",
            "Image shape: (28, 28)\n",
            "train_x shape: (60000, 28, 28)\n",
            "test_x shape: (10000, 28, 28)\n",
            "train_y shape: (60000,)\n",
            "test_y shape: (10000,)\n"
          ],
          "name": "stdout"
        }
      ]
    },
    {
      "cell_type": "code",
      "metadata": {
        "id": "p8didY3OeHzf",
        "colab_type": "code",
        "colab": {
          "base_uri": "https://localhost:8080/",
          "height": 282
        },
        "outputId": "66bc362a-99a2-4605-bdbd-fbd028f1ca75"
      },
      "source": [
        "plt.imshow(train_x[40],cmap='gray')\n",
        "#images are white on black background"
      ],
      "execution_count": 81,
      "outputs": [
        {
          "output_type": "execute_result",
          "data": {
            "text/plain": [
              "<matplotlib.image.AxesImage at 0x7f33e5540390>"
            ]
          },
          "metadata": {
            "tags": []
          },
          "execution_count": 81
        },
        {
          "output_type": "display_data",
          "data": {
            "image/png": "[encoded data removed]",
            "text/plain": [
              "<Figure size 432x288 with 1 Axes>"
            ]
          },
          "metadata": {
            "tags": [],
            "needs_background": "light"
          }
        }
      ]
    },
    {
      "cell_type": "code",
      "metadata": {
        "id": "vX-1Oof4eZP5",
        "colab_type": "code",
        "colab": {}
      },
      "source": [
        "#preprocess the data\n",
        "#add channel dimension(1 in this case as we have grayscale images)\n",
        "train_x = np.expand_dims(train_x,axis=3)\n",
        "test_x = np.expand_dims(test_x,axis=3)\n",
        "\n",
        "#normalize the images\n",
        "train_x = train_x/255.0\n",
        "test_x = test_x/255.0\n",
        "\n",
        "#convert labels to one-hot encoding\n",
        "train_y_oh = to_categorical(train_y,NUM_CLASSES)\n",
        "test_y_oh = to_categorical(test_y,NUM_CLASSES)"
      ],
      "execution_count": 82,
      "outputs": []
    },
    {
      "cell_type": "code",
      "metadata": {
        "id": "-yhPJWmrgeyB",
        "colab_type": "code",
        "colab": {
          "base_uri": "https://localhost:8080/",
          "height": 86
        },
        "outputId": "78bcf79e-577d-4c9e-8694-ba26ea204cbe"
      },
      "source": [
        "print(train_y_oh.shape)\n",
        "print(test_y_oh.shape)\n",
        "print(train_x.shape)\n",
        "print(test_x.shape)"
      ],
      "execution_count": 83,
      "outputs": [
        {
          "output_type": "stream",
          "text": [
            "(60000, 10)\n",
            "(10000, 10)\n",
            "(60000, 28, 28, 1)\n",
            "(10000, 28, 28, 1)\n"
          ],
          "name": "stdout"
        }
      ]
    },
    {
      "cell_type": "code",
      "metadata": {
        "id": "L5F0xwC9tdfQ",
        "colab_type": "code",
        "colab": {
          "base_uri": "https://localhost:8080/",
          "height": 282
        },
        "outputId": "30e2c666-c5aa-47f6-c175-3df84a46a82f"
      },
      "source": [
        "plt.imshow(train_x[0].reshape(28,28),cmap='gray')"
      ],
      "execution_count": 84,
      "outputs": [
        {
          "output_type": "execute_result",
          "data": {
            "text/plain": [
              "<matplotlib.image.AxesImage at 0x7f345333add8>"
            ]
          },
          "metadata": {
            "tags": []
          },
          "execution_count": 84
        },
        {
          "output_type": "display_data",
          "data": {
            "image/png": "[encoded data removed]",
            "text/plain": [
              "<Figure size 432x288 with 1 Axes>"
            ]
          },
          "metadata": {
            "tags": [],
            "needs_background": "light"
          }
        }
      ]
    },
    {
      "cell_type": "code",
      "metadata": {
        "id": "9hVk7jHogtle",
        "colab_type": "code",
        "colab": {
          "base_uri": "https://localhost:8080/",
          "height": 712
        },
        "outputId": "eaee46e3-6323-45fd-b074-757f1e0531c3"
      },
      "source": [
        "#Build the CNN model\n",
        "model = Sequential([\n",
        "                    \n",
        "        Conv2D(8,(3,3),use_bias=False,padding='same',input_shape=(28,28,1)),\n",
        "        BatchNormalization(scale=False,center=True),\n",
        "        Activation('relu'),\n",
        "        MaxPooling2D(),\n",
        "\n",
        "        Conv2D(16,(3,3),use_bias=False,padding='same'),\n",
        "        BatchNormalization(scale=False,center=True),\n",
        "        Activation('relu'),\n",
        "        MaxPooling2D(),\n",
        "\n",
        "        Conv2D(32,(3,3),use_bias=False),\n",
        "        BatchNormalization(scale=False,center=True),\n",
        "        Activation('relu'),\n",
        "        MaxPooling2D(),\n",
        "\n",
        "        Flatten(),\n",
        "        Dense(256,activation='relu'),\n",
        "        Dropout(0.3),\n",
        "        Dense(10,activation='softmax')\n",
        "\n",
        "])\n",
        "model.summary()"
      ],
      "execution_count": 85,
      "outputs": [
        {
          "output_type": "stream",
          "text": [
            "Model: \"sequential_3\"\n",
            "_________________________________________________________________\n",
            "Layer (type)                 Output Shape              Param #   \n",
            "=================================================================\n",
            "conv2d_34 (Conv2D)           (None, 28, 28, 8)         72        \n",
            "_________________________________________________________________\n",
            "batch_normalization_34 (Batc (None, 28, 28, 8)         24        \n",
            "_________________________________________________________________\n",
            "activation_33 (Activation)   (None, 28, 28, 8)         0         \n",
            "_________________________________________________________________\n",
            "max_pooling2d_33 (MaxPooling (None, 14, 14, 8)         0         \n",
            "_________________________________________________________________\n",
            "conv2d_35 (Conv2D)           (None, 14, 14, 16)        1152      \n",
            "_________________________________________________________________\n",
            "batch_normalization_35 (Batc (None, 14, 14, 16)        48        \n",
            "_________________________________________________________________\n",
            "activation_34 (Activation)   (None, 14, 14, 16)        0         \n",
            "_________________________________________________________________\n",
            "max_pooling2d_34 (MaxPooling (None, 7, 7, 16)          0         \n",
            "_________________________________________________________________\n",
            "conv2d_36 (Conv2D)           (None, 5, 5, 32)          4608      \n",
            "_________________________________________________________________\n",
            "batch_normalization_36 (Batc (None, 5, 5, 32)          96        \n",
            "_________________________________________________________________\n",
            "activation_35 (Activation)   (None, 5, 5, 32)          0         \n",
            "_________________________________________________________________\n",
            "max_pooling2d_35 (MaxPooling (None, 2, 2, 32)          0         \n",
            "_________________________________________________________________\n",
            "flatten_10 (Flatten)         (None, 128)               0         \n",
            "_________________________________________________________________\n",
            "dense_22 (Dense)             (None, 256)               33024     \n",
            "_________________________________________________________________\n",
            "dropout_11 (Dropout)         (None, 256)               0         \n",
            "_________________________________________________________________\n",
            "dense_23 (Dense)             (None, 10)                2570      \n",
            "=================================================================\n",
            "Total params: 41,594\n",
            "Trainable params: 41,482\n",
            "Non-trainable params: 112\n",
            "_________________________________________________________________\n"
          ],
          "name": "stdout"
        }
      ]
    },
    {
      "cell_type": "code",
      "metadata": {
        "id": "9T_X2gwcjDyY",
        "colab_type": "code",
        "colab": {}
      },
      "source": [
        "#compile the model\n",
        "opt = Adam(lr = 0.01)\n",
        "model.compile(optimizer=opt,loss='categorical_crossentropy',metrics=['accuracy']) "
      ],
      "execution_count": 86,
      "outputs": []
    },
    {
      "cell_type": "code",
      "metadata": {
        "id": "vbN5luqdmJH1",
        "colab_type": "code",
        "colab": {}
      },
      "source": [
        "#set up callbacks\n",
        "model_check = ModelCheckpoint('mnist2.h5',monitor='val_accuracy',save_best_only=True)\n",
        "\n",
        "def lr_decay(epoch):\n",
        "  return 0.01*math.pow(0.666,epoch)\n",
        "lr_decay_cb = LearningRateScheduler(lr_decay,verbose=True)\n",
        "\n",
        "class myCallback(tf.keras.callbacks.Callback):\n",
        "  def on_epoch_end(self,epoch,logs={}):\n",
        "    if logs.get('val_accuracy') > 0.993:\n",
        "      self.model.stop_training = True\n",
        "my_cb = myCallback()"
      ],
      "execution_count": 91,
      "outputs": []
    },
    {
      "cell_type": "code",
      "metadata": {
        "id": "uwZ7qRUbmihk",
        "colab_type": "code",
        "colab": {}
      },
      "source": [
        "#train the model\n",
        "history = model.fit(train_x,train_y_oh,validation_data=(test_x,test_y_oh),epochs=100,batch_size=64,\n",
        "                    callbacks=[lr_decay_cb,my_cb,model_check])"
      ],
      "execution_count": null,
      "outputs": []
    },
    {
      "cell_type": "code",
      "metadata": {
        "id": "UGBa_EolnYap",
        "colab_type": "code",
        "colab": {
          "base_uri": "https://localhost:8080/",
          "height": 52
        },
        "outputId": "2bc094d7-dee7-4693-f17a-ddb063bbc076"
      },
      "source": [
        "mnist = tf.keras.models.load_model('mnist.h5')\n",
        "mnist.evaluate(test_x,test_y_oh)"
      ],
      "execution_count": 94,
      "outputs": [
        {
          "output_type": "stream",
          "text": [
            "313/313 [==============================] - 1s 3ms/step - loss: 0.0406 - accuracy: 0.9920\n"
          ],
          "name": "stdout"
        },
        {
          "output_type": "execute_result",
          "data": {
            "text/plain": [
              "[0.04059333726763725, 0.9919999837875366]"
            ]
          },
          "metadata": {
            "tags": []
          },
          "execution_count": 94
        }
      ]
    },
    {
      "cell_type": "code",
      "metadata": {
        "id": "K98JKNYLvpBi",
        "colab_type": "code",
        "colab": {
          "base_uri": "https://localhost:8080/",
          "height": 486
        },
        "outputId": "1dc1a9e2-c418-4bac-bb8e-6201f9f894ae"
      },
      "source": [
        "from sklearn.metrics import classification_report,confusion_matrix\n",
        "predictions = mnist.predict_classes(test_x)\n",
        "print(classification_report(test_y,predictions))\n",
        "print(confusion_matrix(test_y,predictions))"
      ],
      "execution_count": 96,
      "outputs": [
        {
          "output_type": "stream",
          "text": [
            "              precision    recall  f1-score   support\n",
            "\n",
            "           0       0.99      1.00      0.99       980\n",
            "           1       0.99      1.00      1.00      1135\n",
            "           2       0.99      0.99      0.99      1032\n",
            "           3       1.00      0.99      0.99      1010\n",
            "           4       0.99      1.00      0.99       982\n",
            "           5       0.99      0.99      0.99       892\n",
            "           6       1.00      0.99      0.99       958\n",
            "           7       0.99      0.99      0.99      1028\n",
            "           8       0.99      0.99      0.99       974\n",
            "           9       0.99      0.98      0.99      1009\n",
            "\n",
            "    accuracy                           0.99     10000\n",
            "   macro avg       0.99      0.99      0.99     10000\n",
            "weighted avg       0.99      0.99      0.99     10000\n",
            "\n",
            "[[ 976    0    1    0    0    0    1    1    1    0]\n",
            " [   0 1132    0    1    0    0    1    0    1    0]\n",
            " [   0    3 1023    0    0    0    0    4    2    0]\n",
            " [   0    0    2 1002    0    5    0    1    0    0]\n",
            " [   0    0    0    0  979    0    0    0    0    3]\n",
            " [   2    0    0    2    0  886    1    1    0    0]\n",
            " [   3    1    0    0    0    4  948    0    2    0]\n",
            " [   1    3    6    0    0    0    0 1017    0    1]\n",
            " [   1    0    2    1    0    0    0    0  968    2]\n",
            " [   0    1    1    0    7    4    0    3    4  989]]\n"
          ],
          "name": "stdout"
        }
      ]
    },
    {
      "cell_type": "code",
      "metadata": {
        "id": "hq5f0VRMwMCs",
        "colab_type": "code",
        "colab": {}
      },
      "source": [
        ""
      ],
      "execution_count": null,
      "outputs": []
    }
  ]
}